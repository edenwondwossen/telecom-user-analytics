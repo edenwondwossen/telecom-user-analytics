{
 "cells": [
  {
   "cell_type": "markdown",
   "id": "ee214ad9",
   "metadata": {},
   "source": [
    "# User Experience Analysis"
   ]
  },
  {
   "cell_type": "code",
   "execution_count": 53,
   "id": "120815f5",
   "metadata": {},
   "outputs": [],
   "source": [
    "# Import Libraries\n",
    "import sys\n",
    "import os\n",
    "sys.path.append(os.path.abspath(os.path.join('..')))\n",
    "import pandas as pd\n",
    "import seaborn as sns\n",
    "import matplotlib.pyplot as plt\n",
    "import numpy as np \n",
    "from pandas.api.types import is_string_dtype, is_numeric_dtype\n",
    "\n",
    "from sklearn.preprocessing import Normalizer, MinMaxScaler\n",
    "from sklearn.cluster import KMeans\n",
    "\n",
    "from matplotlib import cm"
   ]
  },
  {
   "cell_type": "code",
   "execution_count": 3,
   "id": "0c3976c7",
   "metadata": {},
   "outputs": [],
   "source": [
    "%matplotlib inline\n",
    "#display-related options\n",
    "pd.set_option('display.max_columns', None)\n",
    "pd.set_option(\"display.precision\", 3)\n",
    "pd.set_option(\"display.expand_frame_repr\", False)"
   ]
  },
  {
   "cell_type": "code",
   "execution_count": 4,
   "id": "410e4449",
   "metadata": {},
   "outputs": [],
   "source": [
    "CSV_PATH = \"../data/raw/Week1_challenge_data_source.csv\""
   ]
  },
  {
   "cell_type": "code",
   "execution_count": 7,
   "id": "21e2fa17",
   "metadata": {},
   "outputs": [],
   "source": [
    "def read_raw_data(csv_path):\n",
    "    try:    \n",
    "        df = pd.read_csv(csv_path)\n",
    "        print(\"file read as csv\")\n",
    "        return df\n",
    "    except FileNotFoundError:\n",
    "        print(\"file not found\")"
   ]
  },
  {
   "cell_type": "code",
   "execution_count": 8,
   "id": "e8052747",
   "metadata": {},
   "outputs": [
    {
     "name": "stdout",
     "output_type": "stream",
     "text": [
      "file read as csv\n"
     ]
    }
   ],
   "source": [
    "xDR_df = read_raw_data(CSV_PATH)"
   ]
  },
  {
   "cell_type": "code",
   "execution_count": 9,
   "id": "f6f85ef4",
   "metadata": {},
   "outputs": [
    {
     "data": {
      "text/html": [
       "<div>\n",
       "<style scoped>\n",
       "    .dataframe tbody tr th:only-of-type {\n",
       "        vertical-align: middle;\n",
       "    }\n",
       "\n",
       "    .dataframe tbody tr th {\n",
       "        vertical-align: top;\n",
       "    }\n",
       "\n",
       "    .dataframe thead th {\n",
       "        text-align: right;\n",
       "    }\n",
       "</style>\n",
       "<table border=\"1\" class=\"dataframe\">\n",
       "  <thead>\n",
       "    <tr style=\"text-align: right;\">\n",
       "      <th></th>\n",
       "      <th>Bearer Id</th>\n",
       "      <th>Start</th>\n",
       "      <th>Start ms</th>\n",
       "      <th>End</th>\n",
       "      <th>End ms</th>\n",
       "      <th>Dur. (ms)</th>\n",
       "      <th>IMSI</th>\n",
       "      <th>MSISDN/Number</th>\n",
       "      <th>IMEI</th>\n",
       "      <th>Last Location Name</th>\n",
       "      <th>Avg RTT DL (ms)</th>\n",
       "      <th>Avg RTT UL (ms)</th>\n",
       "      <th>Avg Bearer TP DL (kbps)</th>\n",
       "      <th>Avg Bearer TP UL (kbps)</th>\n",
       "      <th>TCP DL Retrans. Vol (Bytes)</th>\n",
       "      <th>TCP UL Retrans. Vol (Bytes)</th>\n",
       "      <th>DL TP &lt; 50 Kbps (%)</th>\n",
       "      <th>50 Kbps &lt; DL TP &lt; 250 Kbps (%)</th>\n",
       "      <th>250 Kbps &lt; DL TP &lt; 1 Mbps (%)</th>\n",
       "      <th>DL TP &gt; 1 Mbps (%)</th>\n",
       "      <th>UL TP &lt; 10 Kbps (%)</th>\n",
       "      <th>10 Kbps &lt; UL TP &lt; 50 Kbps (%)</th>\n",
       "      <th>50 Kbps &lt; UL TP &lt; 300 Kbps (%)</th>\n",
       "      <th>UL TP &gt; 300 Kbps (%)</th>\n",
       "      <th>HTTP DL (Bytes)</th>\n",
       "      <th>HTTP UL (Bytes)</th>\n",
       "      <th>Activity Duration DL (ms)</th>\n",
       "      <th>Activity Duration UL (ms)</th>\n",
       "      <th>Dur. (ms).1</th>\n",
       "      <th>Handset Manufacturer</th>\n",
       "      <th>Handset Type</th>\n",
       "      <th>Nb of sec with 125000B &lt; Vol DL</th>\n",
       "      <th>Nb of sec with 1250B &lt; Vol UL &lt; 6250B</th>\n",
       "      <th>Nb of sec with 31250B &lt; Vol DL &lt; 125000B</th>\n",
       "      <th>Nb of sec with 37500B &lt; Vol UL</th>\n",
       "      <th>Nb of sec with 6250B &lt; Vol DL &lt; 31250B</th>\n",
       "      <th>Nb of sec with 6250B &lt; Vol UL &lt; 37500B</th>\n",
       "      <th>Nb of sec with Vol DL &lt; 6250B</th>\n",
       "      <th>Nb of sec with Vol UL &lt; 1250B</th>\n",
       "      <th>Social Media DL (Bytes)</th>\n",
       "      <th>Social Media UL (Bytes)</th>\n",
       "      <th>Google DL (Bytes)</th>\n",
       "      <th>Google UL (Bytes)</th>\n",
       "      <th>Email DL (Bytes)</th>\n",
       "      <th>Email UL (Bytes)</th>\n",
       "      <th>Youtube DL (Bytes)</th>\n",
       "      <th>Youtube UL (Bytes)</th>\n",
       "      <th>Netflix DL (Bytes)</th>\n",
       "      <th>Netflix UL (Bytes)</th>\n",
       "      <th>Gaming DL (Bytes)</th>\n",
       "      <th>Gaming UL (Bytes)</th>\n",
       "      <th>Other DL (Bytes)</th>\n",
       "      <th>Other UL (Bytes)</th>\n",
       "      <th>Total UL (Bytes)</th>\n",
       "      <th>Total DL (Bytes)</th>\n",
       "    </tr>\n",
       "  </thead>\n",
       "  <tbody>\n",
       "    <tr>\n",
       "      <th>0</th>\n",
       "      <td>1.310e+19</td>\n",
       "      <td>4/4/2019 12:01</td>\n",
       "      <td>770.0</td>\n",
       "      <td>4/25/2019 14:35</td>\n",
       "      <td>662.0</td>\n",
       "      <td>1.824e+06</td>\n",
       "      <td>2.080e+14</td>\n",
       "      <td>3.366e+10</td>\n",
       "      <td>3.550e+13</td>\n",
       "      <td>9.16E+15</td>\n",
       "      <td>42.0</td>\n",
       "      <td>5.0</td>\n",
       "      <td>23.0</td>\n",
       "      <td>44.0</td>\n",
       "      <td>NaN</td>\n",
       "      <td>NaN</td>\n",
       "      <td>100.0</td>\n",
       "      <td>0.0</td>\n",
       "      <td>0.0</td>\n",
       "      <td>0.0</td>\n",
       "      <td>100.0</td>\n",
       "      <td>0.0</td>\n",
       "      <td>0.0</td>\n",
       "      <td>0.0</td>\n",
       "      <td>NaN</td>\n",
       "      <td>NaN</td>\n",
       "      <td>37624.0</td>\n",
       "      <td>38787.0</td>\n",
       "      <td>1.824e+09</td>\n",
       "      <td>Samsung</td>\n",
       "      <td>Samsung Galaxy A5 Sm-A520F</td>\n",
       "      <td>NaN</td>\n",
       "      <td>NaN</td>\n",
       "      <td>NaN</td>\n",
       "      <td>NaN</td>\n",
       "      <td>NaN</td>\n",
       "      <td>NaN</td>\n",
       "      <td>213.0</td>\n",
       "      <td>214.0</td>\n",
       "      <td>1.546e+06</td>\n",
       "      <td>24420.0</td>\n",
       "      <td>1.634e+06</td>\n",
       "      <td>1.271e+06</td>\n",
       "      <td>3.564e+06</td>\n",
       "      <td>137762.0</td>\n",
       "      <td>1.585e+07</td>\n",
       "      <td>2.501e+06</td>\n",
       "      <td>8.199e+06</td>\n",
       "      <td>9.656e+06</td>\n",
       "      <td>2.781e+08</td>\n",
       "      <td>1.434e+07</td>\n",
       "      <td>1.717e+08</td>\n",
       "      <td>8.814e+06</td>\n",
       "      <td>3.675e+07</td>\n",
       "      <td>3.089e+08</td>\n",
       "    </tr>\n",
       "    <tr>\n",
       "      <th>1</th>\n",
       "      <td>1.310e+19</td>\n",
       "      <td>4/9/2019 13:04</td>\n",
       "      <td>235.0</td>\n",
       "      <td>4/25/2019 8:15</td>\n",
       "      <td>606.0</td>\n",
       "      <td>1.365e+06</td>\n",
       "      <td>2.080e+14</td>\n",
       "      <td>3.368e+10</td>\n",
       "      <td>3.580e+13</td>\n",
       "      <td>L77566A</td>\n",
       "      <td>65.0</td>\n",
       "      <td>5.0</td>\n",
       "      <td>16.0</td>\n",
       "      <td>26.0</td>\n",
       "      <td>NaN</td>\n",
       "      <td>NaN</td>\n",
       "      <td>100.0</td>\n",
       "      <td>0.0</td>\n",
       "      <td>0.0</td>\n",
       "      <td>0.0</td>\n",
       "      <td>100.0</td>\n",
       "      <td>0.0</td>\n",
       "      <td>0.0</td>\n",
       "      <td>0.0</td>\n",
       "      <td>NaN</td>\n",
       "      <td>NaN</td>\n",
       "      <td>168.0</td>\n",
       "      <td>3560.0</td>\n",
       "      <td>1.365e+09</td>\n",
       "      <td>Samsung</td>\n",
       "      <td>Samsung Galaxy J5 (Sm-J530)</td>\n",
       "      <td>NaN</td>\n",
       "      <td>NaN</td>\n",
       "      <td>NaN</td>\n",
       "      <td>NaN</td>\n",
       "      <td>NaN</td>\n",
       "      <td>NaN</td>\n",
       "      <td>971.0</td>\n",
       "      <td>1022.0</td>\n",
       "      <td>1.926e+06</td>\n",
       "      <td>7165.0</td>\n",
       "      <td>3.494e+06</td>\n",
       "      <td>9.202e+05</td>\n",
       "      <td>6.290e+05</td>\n",
       "      <td>308339.0</td>\n",
       "      <td>2.025e+07</td>\n",
       "      <td>1.911e+07</td>\n",
       "      <td>1.834e+07</td>\n",
       "      <td>1.723e+07</td>\n",
       "      <td>6.088e+08</td>\n",
       "      <td>1.171e+06</td>\n",
       "      <td>5.269e+08</td>\n",
       "      <td>1.506e+07</td>\n",
       "      <td>5.380e+07</td>\n",
       "      <td>6.534e+08</td>\n",
       "    </tr>\n",
       "    <tr>\n",
       "      <th>2</th>\n",
       "      <td>1.310e+19</td>\n",
       "      <td>4/9/2019 17:42</td>\n",
       "      <td>1.0</td>\n",
       "      <td>4/25/2019 11:58</td>\n",
       "      <td>652.0</td>\n",
       "      <td>1.362e+06</td>\n",
       "      <td>2.080e+14</td>\n",
       "      <td>3.376e+10</td>\n",
       "      <td>3.530e+13</td>\n",
       "      <td>D42335A</td>\n",
       "      <td>NaN</td>\n",
       "      <td>NaN</td>\n",
       "      <td>6.0</td>\n",
       "      <td>9.0</td>\n",
       "      <td>NaN</td>\n",
       "      <td>NaN</td>\n",
       "      <td>100.0</td>\n",
       "      <td>0.0</td>\n",
       "      <td>0.0</td>\n",
       "      <td>0.0</td>\n",
       "      <td>100.0</td>\n",
       "      <td>0.0</td>\n",
       "      <td>0.0</td>\n",
       "      <td>0.0</td>\n",
       "      <td>NaN</td>\n",
       "      <td>NaN</td>\n",
       "      <td>0.0</td>\n",
       "      <td>0.0</td>\n",
       "      <td>1.362e+09</td>\n",
       "      <td>Samsung</td>\n",
       "      <td>Samsung Galaxy A8 (2018)</td>\n",
       "      <td>NaN</td>\n",
       "      <td>NaN</td>\n",
       "      <td>NaN</td>\n",
       "      <td>NaN</td>\n",
       "      <td>NaN</td>\n",
       "      <td>NaN</td>\n",
       "      <td>751.0</td>\n",
       "      <td>695.0</td>\n",
       "      <td>1.684e+06</td>\n",
       "      <td>42224.0</td>\n",
       "      <td>8.535e+06</td>\n",
       "      <td>1.694e+06</td>\n",
       "      <td>2.690e+06</td>\n",
       "      <td>672973.0</td>\n",
       "      <td>1.973e+07</td>\n",
       "      <td>1.470e+07</td>\n",
       "      <td>1.759e+07</td>\n",
       "      <td>6.163e+06</td>\n",
       "      <td>2.296e+08</td>\n",
       "      <td>3.956e+05</td>\n",
       "      <td>4.107e+08</td>\n",
       "      <td>4.216e+06</td>\n",
       "      <td>2.788e+07</td>\n",
       "      <td>2.798e+08</td>\n",
       "    </tr>\n",
       "    <tr>\n",
       "      <th>3</th>\n",
       "      <td>1.310e+19</td>\n",
       "      <td>4/10/2019 0:31</td>\n",
       "      <td>486.0</td>\n",
       "      <td>4/25/2019 7:36</td>\n",
       "      <td>171.0</td>\n",
       "      <td>1.322e+06</td>\n",
       "      <td>2.080e+14</td>\n",
       "      <td>3.375e+10</td>\n",
       "      <td>3.540e+13</td>\n",
       "      <td>T21824A</td>\n",
       "      <td>NaN</td>\n",
       "      <td>NaN</td>\n",
       "      <td>44.0</td>\n",
       "      <td>44.0</td>\n",
       "      <td>NaN</td>\n",
       "      <td>NaN</td>\n",
       "      <td>100.0</td>\n",
       "      <td>0.0</td>\n",
       "      <td>0.0</td>\n",
       "      <td>0.0</td>\n",
       "      <td>100.0</td>\n",
       "      <td>0.0</td>\n",
       "      <td>0.0</td>\n",
       "      <td>0.0</td>\n",
       "      <td>NaN</td>\n",
       "      <td>NaN</td>\n",
       "      <td>3330.0</td>\n",
       "      <td>37882.0</td>\n",
       "      <td>1.322e+09</td>\n",
       "      <td>undefined</td>\n",
       "      <td>undefined</td>\n",
       "      <td>NaN</td>\n",
       "      <td>NaN</td>\n",
       "      <td>NaN</td>\n",
       "      <td>NaN</td>\n",
       "      <td>NaN</td>\n",
       "      <td>NaN</td>\n",
       "      <td>17.0</td>\n",
       "      <td>207.0</td>\n",
       "      <td>6.441e+05</td>\n",
       "      <td>13372.0</td>\n",
       "      <td>9.024e+06</td>\n",
       "      <td>2.788e+06</td>\n",
       "      <td>1.440e+06</td>\n",
       "      <td>631229.0</td>\n",
       "      <td>2.139e+07</td>\n",
       "      <td>1.515e+07</td>\n",
       "      <td>1.399e+07</td>\n",
       "      <td>1.098e+06</td>\n",
       "      <td>7.995e+08</td>\n",
       "      <td>1.085e+07</td>\n",
       "      <td>7.490e+08</td>\n",
       "      <td>1.280e+07</td>\n",
       "      <td>4.332e+07</td>\n",
       "      <td>8.460e+08</td>\n",
       "    </tr>\n",
       "    <tr>\n",
       "      <th>4</th>\n",
       "      <td>1.310e+19</td>\n",
       "      <td>4/12/2019 20:10</td>\n",
       "      <td>565.0</td>\n",
       "      <td>4/25/2019 10:40</td>\n",
       "      <td>954.0</td>\n",
       "      <td>1.089e+06</td>\n",
       "      <td>2.080e+14</td>\n",
       "      <td>3.370e+10</td>\n",
       "      <td>3.540e+13</td>\n",
       "      <td>D88865A</td>\n",
       "      <td>NaN</td>\n",
       "      <td>NaN</td>\n",
       "      <td>6.0</td>\n",
       "      <td>9.0</td>\n",
       "      <td>NaN</td>\n",
       "      <td>NaN</td>\n",
       "      <td>100.0</td>\n",
       "      <td>0.0</td>\n",
       "      <td>0.0</td>\n",
       "      <td>0.0</td>\n",
       "      <td>100.0</td>\n",
       "      <td>0.0</td>\n",
       "      <td>0.0</td>\n",
       "      <td>0.0</td>\n",
       "      <td>NaN</td>\n",
       "      <td>NaN</td>\n",
       "      <td>0.0</td>\n",
       "      <td>0.0</td>\n",
       "      <td>1.089e+09</td>\n",
       "      <td>Samsung</td>\n",
       "      <td>Samsung Sm-G390F</td>\n",
       "      <td>NaN</td>\n",
       "      <td>NaN</td>\n",
       "      <td>NaN</td>\n",
       "      <td>NaN</td>\n",
       "      <td>NaN</td>\n",
       "      <td>NaN</td>\n",
       "      <td>607.0</td>\n",
       "      <td>604.0</td>\n",
       "      <td>8.626e+05</td>\n",
       "      <td>50188.0</td>\n",
       "      <td>6.248e+06</td>\n",
       "      <td>1.501e+06</td>\n",
       "      <td>1.936e+06</td>\n",
       "      <td>173853.0</td>\n",
       "      <td>1.526e+07</td>\n",
       "      <td>1.896e+07</td>\n",
       "      <td>1.712e+07</td>\n",
       "      <td>4.152e+05</td>\n",
       "      <td>5.277e+08</td>\n",
       "      <td>3.530e+06</td>\n",
       "      <td>5.507e+08</td>\n",
       "      <td>1.391e+07</td>\n",
       "      <td>3.854e+07</td>\n",
       "      <td>5.691e+08</td>\n",
       "    </tr>\n",
       "  </tbody>\n",
       "</table>\n",
       "</div>"
      ],
      "text/plain": [
       "   Bearer Id            Start  Start ms              End  End ms  Dur. (ms)       IMSI  MSISDN/Number       IMEI Last Location Name  Avg RTT DL (ms)  Avg RTT UL (ms)  Avg Bearer TP DL (kbps)  Avg Bearer TP UL (kbps)  TCP DL Retrans. Vol (Bytes)  TCP UL Retrans. Vol (Bytes)  DL TP < 50 Kbps (%)  50 Kbps < DL TP < 250 Kbps (%)  250 Kbps < DL TP < 1 Mbps (%)  DL TP > 1 Mbps (%)  UL TP < 10 Kbps (%)  10 Kbps < UL TP < 50 Kbps (%)  50 Kbps < UL TP < 300 Kbps (%)  UL TP > 300 Kbps (%)  HTTP DL (Bytes)  HTTP UL (Bytes)  Activity Duration DL (ms)  Activity Duration UL (ms)  Dur. (ms).1 Handset Manufacturer                 Handset Type  Nb of sec with 125000B < Vol DL  Nb of sec with 1250B < Vol UL < 6250B  Nb of sec with 31250B < Vol DL < 125000B  Nb of sec with 37500B < Vol UL  Nb of sec with 6250B < Vol DL < 31250B  Nb of sec with 6250B < Vol UL < 37500B  Nb of sec with Vol DL < 6250B  Nb of sec with Vol UL < 1250B  Social Media DL (Bytes)  Social Media UL (Bytes)  Google DL (Bytes)  Google UL (Bytes)  Email DL (Bytes)  Email UL (Bytes)  Youtube DL (Bytes)  Youtube UL (Bytes)  Netflix DL (Bytes)  Netflix UL (Bytes)  Gaming DL (Bytes)  Gaming UL (Bytes)  Other DL (Bytes)  Other UL (Bytes)  Total UL (Bytes)  Total DL (Bytes)\n",
       "0  1.310e+19   4/4/2019 12:01     770.0  4/25/2019 14:35   662.0  1.824e+06  2.080e+14      3.366e+10  3.550e+13           9.16E+15             42.0              5.0                     23.0                     44.0                          NaN                          NaN                100.0                             0.0                            0.0                 0.0                100.0                            0.0                             0.0                   0.0              NaN              NaN                    37624.0                    38787.0    1.824e+09              Samsung   Samsung Galaxy A5 Sm-A520F                              NaN                                    NaN                                       NaN                             NaN                                     NaN                                     NaN                          213.0                          214.0                1.546e+06                  24420.0          1.634e+06          1.271e+06         3.564e+06          137762.0           1.585e+07           2.501e+06           8.199e+06           9.656e+06          2.781e+08          1.434e+07         1.717e+08         8.814e+06         3.675e+07         3.089e+08\n",
       "1  1.310e+19   4/9/2019 13:04     235.0   4/25/2019 8:15   606.0  1.365e+06  2.080e+14      3.368e+10  3.580e+13            L77566A             65.0              5.0                     16.0                     26.0                          NaN                          NaN                100.0                             0.0                            0.0                 0.0                100.0                            0.0                             0.0                   0.0              NaN              NaN                      168.0                     3560.0    1.365e+09              Samsung  Samsung Galaxy J5 (Sm-J530)                              NaN                                    NaN                                       NaN                             NaN                                     NaN                                     NaN                          971.0                         1022.0                1.926e+06                   7165.0          3.494e+06          9.202e+05         6.290e+05          308339.0           2.025e+07           1.911e+07           1.834e+07           1.723e+07          6.088e+08          1.171e+06         5.269e+08         1.506e+07         5.380e+07         6.534e+08\n",
       "2  1.310e+19   4/9/2019 17:42       1.0  4/25/2019 11:58   652.0  1.362e+06  2.080e+14      3.376e+10  3.530e+13            D42335A              NaN              NaN                      6.0                      9.0                          NaN                          NaN                100.0                             0.0                            0.0                 0.0                100.0                            0.0                             0.0                   0.0              NaN              NaN                        0.0                        0.0    1.362e+09              Samsung     Samsung Galaxy A8 (2018)                              NaN                                    NaN                                       NaN                             NaN                                     NaN                                     NaN                          751.0                          695.0                1.684e+06                  42224.0          8.535e+06          1.694e+06         2.690e+06          672973.0           1.973e+07           1.470e+07           1.759e+07           6.163e+06          2.296e+08          3.956e+05         4.107e+08         4.216e+06         2.788e+07         2.798e+08\n",
       "3  1.310e+19   4/10/2019 0:31     486.0   4/25/2019 7:36   171.0  1.322e+06  2.080e+14      3.375e+10  3.540e+13            T21824A              NaN              NaN                     44.0                     44.0                          NaN                          NaN                100.0                             0.0                            0.0                 0.0                100.0                            0.0                             0.0                   0.0              NaN              NaN                     3330.0                    37882.0    1.322e+09            undefined                    undefined                              NaN                                    NaN                                       NaN                             NaN                                     NaN                                     NaN                           17.0                          207.0                6.441e+05                  13372.0          9.024e+06          2.788e+06         1.440e+06          631229.0           2.139e+07           1.515e+07           1.399e+07           1.098e+06          7.995e+08          1.085e+07         7.490e+08         1.280e+07         4.332e+07         8.460e+08\n",
       "4  1.310e+19  4/12/2019 20:10     565.0  4/25/2019 10:40   954.0  1.089e+06  2.080e+14      3.370e+10  3.540e+13            D88865A              NaN              NaN                      6.0                      9.0                          NaN                          NaN                100.0                             0.0                            0.0                 0.0                100.0                            0.0                             0.0                   0.0              NaN              NaN                        0.0                        0.0    1.089e+09              Samsung             Samsung Sm-G390F                              NaN                                    NaN                                       NaN                             NaN                                     NaN                                     NaN                          607.0                          604.0                8.626e+05                  50188.0          6.248e+06          1.501e+06         1.936e+06          173853.0           1.526e+07           1.896e+07           1.712e+07           4.152e+05          5.277e+08          3.530e+06         5.507e+08         1.391e+07         3.854e+07         5.691e+08"
      ]
     },
     "execution_count": 9,
     "metadata": {},
     "output_type": "execute_result"
    }
   ],
   "source": [
    "xDR_df.head()"
   ]
  },
  {
   "cell_type": "code",
   "execution_count": 10,
   "id": "aa37d611",
   "metadata": {},
   "outputs": [],
   "source": [
    "experience_df = xDR_df[['MSISDN/Number', 'Avg RTT DL (ms)', 'Avg RTT UL (ms)', \n",
    "           'Avg Bearer TP DL (kbps)', 'Avg Bearer TP UL (kbps)',\n",
    "           'TCP DL Retrans. Vol (Bytes)', 'TCP UL Retrans. Vol (Bytes)',\n",
    "            'DL TP < 50 Kbps (%)', '50 Kbps < DL TP < 250 Kbps (%)',\n",
    "                '250 Kbps < DL TP < 1 Mbps (%)', 'DL TP > 1 Mbps (%)',\n",
    "                'UL TP < 10 Kbps (%)', '10 Kbps < UL TP < 50 Kbps (%)',\n",
    "                '50 Kbps < UL TP < 300 Kbps (%)', 'UL TP > 300 Kbps (%)',            \n",
    "           'Handset Type']].copy()"
   ]
  },
  {
   "cell_type": "code",
   "execution_count": 11,
   "id": "fad8f89a",
   "metadata": {},
   "outputs": [
    {
     "data": {
      "text/html": [
       "<div>\n",
       "<style scoped>\n",
       "    .dataframe tbody tr th:only-of-type {\n",
       "        vertical-align: middle;\n",
       "    }\n",
       "\n",
       "    .dataframe tbody tr th {\n",
       "        vertical-align: top;\n",
       "    }\n",
       "\n",
       "    .dataframe thead th {\n",
       "        text-align: right;\n",
       "    }\n",
       "</style>\n",
       "<table border=\"1\" class=\"dataframe\">\n",
       "  <thead>\n",
       "    <tr style=\"text-align: right;\">\n",
       "      <th></th>\n",
       "      <th>MSISDN/Number</th>\n",
       "      <th>Avg RTT DL (ms)</th>\n",
       "      <th>Avg RTT UL (ms)</th>\n",
       "      <th>Avg Bearer TP DL (kbps)</th>\n",
       "      <th>Avg Bearer TP UL (kbps)</th>\n",
       "      <th>TCP DL Retrans. Vol (Bytes)</th>\n",
       "      <th>TCP UL Retrans. Vol (Bytes)</th>\n",
       "      <th>DL TP &lt; 50 Kbps (%)</th>\n",
       "      <th>50 Kbps &lt; DL TP &lt; 250 Kbps (%)</th>\n",
       "      <th>250 Kbps &lt; DL TP &lt; 1 Mbps (%)</th>\n",
       "      <th>DL TP &gt; 1 Mbps (%)</th>\n",
       "      <th>UL TP &lt; 10 Kbps (%)</th>\n",
       "      <th>10 Kbps &lt; UL TP &lt; 50 Kbps (%)</th>\n",
       "      <th>50 Kbps &lt; UL TP &lt; 300 Kbps (%)</th>\n",
       "      <th>UL TP &gt; 300 Kbps (%)</th>\n",
       "      <th>Handset Type</th>\n",
       "    </tr>\n",
       "  </thead>\n",
       "  <tbody>\n",
       "    <tr>\n",
       "      <th>0</th>\n",
       "      <td>3.366e+10</td>\n",
       "      <td>42.0</td>\n",
       "      <td>5.0</td>\n",
       "      <td>23.0</td>\n",
       "      <td>44.0</td>\n",
       "      <td>NaN</td>\n",
       "      <td>NaN</td>\n",
       "      <td>100.0</td>\n",
       "      <td>0.0</td>\n",
       "      <td>0.0</td>\n",
       "      <td>0.0</td>\n",
       "      <td>100.0</td>\n",
       "      <td>0.0</td>\n",
       "      <td>0.0</td>\n",
       "      <td>0.0</td>\n",
       "      <td>Samsung Galaxy A5 Sm-A520F</td>\n",
       "    </tr>\n",
       "    <tr>\n",
       "      <th>1</th>\n",
       "      <td>3.368e+10</td>\n",
       "      <td>65.0</td>\n",
       "      <td>5.0</td>\n",
       "      <td>16.0</td>\n",
       "      <td>26.0</td>\n",
       "      <td>NaN</td>\n",
       "      <td>NaN</td>\n",
       "      <td>100.0</td>\n",
       "      <td>0.0</td>\n",
       "      <td>0.0</td>\n",
       "      <td>0.0</td>\n",
       "      <td>100.0</td>\n",
       "      <td>0.0</td>\n",
       "      <td>0.0</td>\n",
       "      <td>0.0</td>\n",
       "      <td>Samsung Galaxy J5 (Sm-J530)</td>\n",
       "    </tr>\n",
       "    <tr>\n",
       "      <th>2</th>\n",
       "      <td>3.376e+10</td>\n",
       "      <td>NaN</td>\n",
       "      <td>NaN</td>\n",
       "      <td>6.0</td>\n",
       "      <td>9.0</td>\n",
       "      <td>NaN</td>\n",
       "      <td>NaN</td>\n",
       "      <td>100.0</td>\n",
       "      <td>0.0</td>\n",
       "      <td>0.0</td>\n",
       "      <td>0.0</td>\n",
       "      <td>100.0</td>\n",
       "      <td>0.0</td>\n",
       "      <td>0.0</td>\n",
       "      <td>0.0</td>\n",
       "      <td>Samsung Galaxy A8 (2018)</td>\n",
       "    </tr>\n",
       "    <tr>\n",
       "      <th>3</th>\n",
       "      <td>3.375e+10</td>\n",
       "      <td>NaN</td>\n",
       "      <td>NaN</td>\n",
       "      <td>44.0</td>\n",
       "      <td>44.0</td>\n",
       "      <td>NaN</td>\n",
       "      <td>NaN</td>\n",
       "      <td>100.0</td>\n",
       "      <td>0.0</td>\n",
       "      <td>0.0</td>\n",
       "      <td>0.0</td>\n",
       "      <td>100.0</td>\n",
       "      <td>0.0</td>\n",
       "      <td>0.0</td>\n",
       "      <td>0.0</td>\n",
       "      <td>undefined</td>\n",
       "    </tr>\n",
       "    <tr>\n",
       "      <th>4</th>\n",
       "      <td>3.370e+10</td>\n",
       "      <td>NaN</td>\n",
       "      <td>NaN</td>\n",
       "      <td>6.0</td>\n",
       "      <td>9.0</td>\n",
       "      <td>NaN</td>\n",
       "      <td>NaN</td>\n",
       "      <td>100.0</td>\n",
       "      <td>0.0</td>\n",
       "      <td>0.0</td>\n",
       "      <td>0.0</td>\n",
       "      <td>100.0</td>\n",
       "      <td>0.0</td>\n",
       "      <td>0.0</td>\n",
       "      <td>0.0</td>\n",
       "      <td>Samsung Sm-G390F</td>\n",
       "    </tr>\n",
       "  </tbody>\n",
       "</table>\n",
       "</div>"
      ],
      "text/plain": [
       "   MSISDN/Number  Avg RTT DL (ms)  Avg RTT UL (ms)  Avg Bearer TP DL (kbps)  Avg Bearer TP UL (kbps)  TCP DL Retrans. Vol (Bytes)  TCP UL Retrans. Vol (Bytes)  DL TP < 50 Kbps (%)  50 Kbps < DL TP < 250 Kbps (%)  250 Kbps < DL TP < 1 Mbps (%)  DL TP > 1 Mbps (%)  UL TP < 10 Kbps (%)  10 Kbps < UL TP < 50 Kbps (%)  50 Kbps < UL TP < 300 Kbps (%)  UL TP > 300 Kbps (%)                 Handset Type\n",
       "0      3.366e+10             42.0              5.0                     23.0                     44.0                          NaN                          NaN                100.0                             0.0                            0.0                 0.0                100.0                            0.0                             0.0                   0.0   Samsung Galaxy A5 Sm-A520F\n",
       "1      3.368e+10             65.0              5.0                     16.0                     26.0                          NaN                          NaN                100.0                             0.0                            0.0                 0.0                100.0                            0.0                             0.0                   0.0  Samsung Galaxy J5 (Sm-J530)\n",
       "2      3.376e+10              NaN              NaN                      6.0                      9.0                          NaN                          NaN                100.0                             0.0                            0.0                 0.0                100.0                            0.0                             0.0                   0.0     Samsung Galaxy A8 (2018)\n",
       "3      3.375e+10              NaN              NaN                     44.0                     44.0                          NaN                          NaN                100.0                             0.0                            0.0                 0.0                100.0                            0.0                             0.0                   0.0                    undefined\n",
       "4      3.370e+10              NaN              NaN                      6.0                      9.0                          NaN                          NaN                100.0                             0.0                            0.0                 0.0                100.0                            0.0                             0.0                   0.0             Samsung Sm-G390F"
      ]
     },
     "execution_count": 11,
     "metadata": {},
     "output_type": "execute_result"
    }
   ],
   "source": [
    "experience_df.head()"
   ]
  },
  {
   "cell_type": "markdown",
   "id": "a5883361",
   "metadata": {},
   "source": [
    "## Handling missing values"
   ]
  },
  {
   "cell_type": "code",
   "execution_count": 12,
   "id": "8db76157",
   "metadata": {},
   "outputs": [
    {
     "data": {
      "text/plain": [
       "<AxesSubplot:>"
      ]
     },
     "execution_count": 12,
     "metadata": {},
     "output_type": "execute_result"
    },
    {
     "data": {
      "image/png": "[encoded data removed]",
      "text/plain": [
       "<Figure size 1130.4x595.44 with 1 Axes>"
      ]
     },
     "metadata": {},
     "output_type": "display_data"
    }
   ],
   "source": [
    "sns.set(rc={'figure.figsize':(15.7,8.27)})\n",
    "sns.heatmap(experience_df.isnull(),yticklabels=False,cbar=False,cmap='viridis')"
   ]
  },
  {
   "cell_type": "code",
   "execution_count": 13,
   "id": "386ca10f",
   "metadata": {},
   "outputs": [],
   "source": [
    "def percent_missing(df):\n",
    "\n",
    "    totalCells = np.product(df.shape)\n",
    "    missingCount = df.isnull().sum()\n",
    "    totalMissing = missingCount.sum()\n",
    "    return round((totalMissing / totalCells) * 100, 2)"
   ]
  },
  {
   "cell_type": "code",
   "execution_count": 14,
   "id": "3a4b841e",
   "metadata": {},
   "outputs": [
    {
     "name": "stdout",
     "output_type": "stream",
     "text": [
      "this dataset contains 10.34 % missing values.\n"
     ]
    }
   ],
   "source": [
    "print(\"this dataset contains\", percent_missing(experience_df), \"%\", \"missing values.\")"
   ]
  },
  {
   "cell_type": "code",
   "execution_count": 17,
   "id": "395db56f",
   "metadata": {},
   "outputs": [
    {
     "name": "stderr",
     "output_type": "stream",
     "text": [
      "C:\\Users\\dell\\AppData\\Local\\Temp/ipykernel_15500/3591641808.py:3: FutureWarning: Dropping of nuisance columns in DataFrame reductions (with 'numeric_only=None') is deprecated; in a future version this will raise TypeError.  Select only valid columns before calling the reduction.\n",
      "  experience_df.fillna(experience_df.mean(), inplace=True)\n"
     ]
    }
   ],
   "source": [
    "experience_df['MSISDN/Number'] = experience_df['MSISDN/Number'].fillna('Uknown')\n",
    "experience_df['Handset Type'] = experience_df['Handset Type'].fillna('Uknown')\n",
    "experience_df.fillna(experience_df.mean(), inplace=True)"
   ]
  },
  {
   "cell_type": "code",
   "execution_count": 18,
   "id": "d59db948",
   "metadata": {},
   "outputs": [
    {
     "name": "stdout",
     "output_type": "stream",
     "text": [
      "this data frame contains 0.0 % missing values.\n"
     ]
    }
   ],
   "source": [
    "print(\"this data frame contains\", percent_missing(experience_df), \"%\", \"missing values.\")"
   ]
  },
  {
   "cell_type": "markdown",
   "id": "72cd13c0",
   "metadata": {},
   "source": [
    "## Handling outliers"
   ]
  },
  {
   "cell_type": "code",
   "execution_count": 20,
   "id": "b86b1340",
   "metadata": {},
   "outputs": [
    {
     "data": {
      "text/plain": [
       "<AxesSubplot:xlabel='DL TP > 1 Mbps (%)'>"
      ]
     },
     "execution_count": 20,
     "metadata": {},
     "output_type": "execute_result"
    },
    {
     "data": {
      "image/png": "[encoded data removed]",
      "text/plain": [
       "<Figure size 1130.4x595.44 with 1 Axes>"
      ]
     },
     "metadata": {},
     "output_type": "display_data"
    }
   ],
   "source": [
    "sns.boxplot(x=experience_df['DL TP > 1 Mbps (%)'],data=experience_df)"
   ]
  },
  {
   "cell_type": "code",
   "execution_count": 21,
   "id": "55950a1f",
   "metadata": {},
   "outputs": [],
   "source": [
    "def outlier(df):\n",
    "    column_name=['Avg RTT DL (ms)','Avg RTT UL (ms)','TCP DL Retrans. Vol (Bytes)', 'TCP UL Retrans. Vol (Bytes)',\n",
    "                'TCP DL Retrans. Vol (Bytes)', 'TCP UL Retrans. Vol (Bytes)',\n",
    "                'DL TP < 50 Kbps (%)', '50 Kbps < DL TP < 250 Kbps (%)',\n",
    "                '250 Kbps < DL TP < 1 Mbps (%)', 'DL TP > 1 Mbps (%)',\n",
    "                'UL TP < 10 Kbps (%)', '10 Kbps < UL TP < 50 Kbps (%)',\n",
    "                '50 Kbps < UL TP < 300 Kbps (%)', 'UL TP > 300 Kbps (%)']\n",
    "    for i in column_name:\n",
    "        upper_quartile=df[i].quantile(0.75)\n",
    "        lower_quartile=df[i].quantile(0.25)\n",
    "        df[i]=np.where(df[i]>upper_quartile,df[i].mean(),np.where(df[i]<lower_quartile,df[i].mean(),df[i]))\n",
    "    return df"
   ]
  },
  {
   "cell_type": "code",
   "execution_count": 22,
   "id": "87a46f41",
   "metadata": {},
   "outputs": [],
   "source": [
    "experience_df=outlier(experience_df)"
   ]
  },
  {
   "cell_type": "code",
   "execution_count": 23,
   "id": "95ea2afb",
   "metadata": {},
   "outputs": [
    {
     "name": "stdout",
     "output_type": "stream",
     "text": [
      "<class 'pandas.core.frame.DataFrame'>\n",
      "RangeIndex: 150001 entries, 0 to 150000\n",
      "Data columns (total 16 columns):\n",
      " #   Column                          Non-Null Count   Dtype  \n",
      "---  ------                          --------------   -----  \n",
      " 0   MSISDN/Number                   150001 non-null  object \n",
      " 1   Avg RTT DL (ms)                 150001 non-null  float64\n",
      " 2   Avg RTT UL (ms)                 150001 non-null  float64\n",
      " 3   Avg Bearer TP DL (kbps)         150001 non-null  float64\n",
      " 4   Avg Bearer TP UL (kbps)         150001 non-null  float64\n",
      " 5   TCP DL Retrans. Vol (Bytes)     150001 non-null  float64\n",
      " 6   TCP UL Retrans. Vol (Bytes)     150001 non-null  float64\n",
      " 7   DL TP < 50 Kbps (%)             150001 non-null  float64\n",
      " 8   50 Kbps < DL TP < 250 Kbps (%)  150001 non-null  float64\n",
      " 9   250 Kbps < DL TP < 1 Mbps (%)   150001 non-null  float64\n",
      " 10  DL TP > 1 Mbps (%)              150001 non-null  float64\n",
      " 11  UL TP < 10 Kbps (%)             150001 non-null  float64\n",
      " 12  10 Kbps < UL TP < 50 Kbps (%)   150001 non-null  float64\n",
      " 13  50 Kbps < UL TP < 300 Kbps (%)  150001 non-null  float64\n",
      " 14  UL TP > 300 Kbps (%)            150001 non-null  float64\n",
      " 15  Handset Type                    150001 non-null  object \n",
      "dtypes: float64(14), object(2)\n",
      "memory usage: 18.3+ MB\n"
     ]
    }
   ],
   "source": [
    "experience_df.info()"
   ]
  },
  {
   "cell_type": "code",
   "execution_count": 24,
   "id": "cb78a2a4",
   "metadata": {},
   "outputs": [
    {
     "data": {
      "text/plain": [
       "<AxesSubplot:xlabel='DL TP > 1 Mbps (%)'>"
      ]
     },
     "execution_count": 24,
     "metadata": {},
     "output_type": "execute_result"
    },
    {
     "data": {
      "image/png": "[encoded data removed]",
      "text/plain": [
       "<Figure size 1130.4x595.44 with 1 Axes>"
      ]
     },
     "metadata": {},
     "output_type": "display_data"
    }
   ],
   "source": [
    "#checking for outliers\n",
    "sns.boxplot(x=experience_df['DL TP > 1 Mbps (%)'],data=experience_df)"
   ]
  },
  {
   "cell_type": "code",
   "execution_count": 25,
   "id": "c833f600",
   "metadata": {},
   "outputs": [],
   "source": [
    "#Calculate total TCP,RTT and Throughput\n",
    "experience_df[\"Total TCP\"] = experience_df['TCP DL Retrans. Vol (Bytes)'] + experience_df['TCP UL Retrans. Vol (Bytes)']+experience_df['TCP DL Retrans. Vol (Bytes)']+ experience_df['TCP UL Retrans. Vol (Bytes)']\n",
    "experience_df[\"Total RTT\"] = experience_df['Avg RTT DL (ms)']+experience_df['Avg RTT UL (ms)']\n",
    "experience_df[\"Total Throughput\"] = experience_df['DL TP < 50 Kbps (%)'] + experience_df['50 Kbps < DL TP < 250 Kbps (%)'] + experience_df['250 Kbps < DL TP < 1 Mbps (%)'] + experience_df['DL TP > 1 Mbps (%)'] + experience_df['UL TP < 10 Kbps (%)'] + experience_df['10 Kbps < UL TP < 50 Kbps (%)'] + experience_df['50 Kbps < UL TP < 300 Kbps (%)'] + experience_df['UL TP > 300 Kbps (%)']\n"
   ]
  },
  {
   "cell_type": "code",
   "execution_count": 26,
   "id": "354a9e3b",
   "metadata": {},
   "outputs": [],
   "source": [
    "experience_agg_by_customer = experience_df.groupby('MSISDN/Number').agg({'Total TCP': 'sum',\n",
    "                                                                          'Total RTT': 'sum',\n",
    "                                                                          'Total Throughput': 'sum', \n",
    "                                                                           'Handset Type': lambda x: x.mode()[0]})"
   ]
  },
  {
   "cell_type": "code",
   "execution_count": 27,
   "id": "d45f6cd7",
   "metadata": {},
   "outputs": [
    {
     "data": {
      "text/html": [
       "<div>\n",
       "<style scoped>\n",
       "    .dataframe tbody tr th:only-of-type {\n",
       "        vertical-align: middle;\n",
       "    }\n",
       "\n",
       "    .dataframe tbody tr th {\n",
       "        vertical-align: top;\n",
       "    }\n",
       "\n",
       "    .dataframe thead th {\n",
       "        text-align: right;\n",
       "    }\n",
       "</style>\n",
       "<table border=\"1\" class=\"dataframe\">\n",
       "  <thead>\n",
       "    <tr style=\"text-align: right;\">\n",
       "      <th></th>\n",
       "      <th>Total TCP</th>\n",
       "      <th>Total RTT</th>\n",
       "      <th>Total Throughput</th>\n",
       "      <th>Handset Type</th>\n",
       "    </tr>\n",
       "    <tr>\n",
       "      <th>MSISDN/Number</th>\n",
       "      <th></th>\n",
       "      <th></th>\n",
       "      <th></th>\n",
       "      <th></th>\n",
       "    </tr>\n",
       "  </thead>\n",
       "  <tbody>\n",
       "    <tr>\n",
       "      <th>33601001722.0</th>\n",
       "      <td>4.314e+07</td>\n",
       "      <td>63.663</td>\n",
       "      <td>200.000</td>\n",
       "      <td>Huawei P20 Lite Huawei Nova 3E</td>\n",
       "    </tr>\n",
       "    <tr>\n",
       "      <th>33601001754.0</th>\n",
       "      <td>4.314e+07</td>\n",
       "      <td>127.459</td>\n",
       "      <td>200.000</td>\n",
       "      <td>Apple iPhone 7 (A1778)</td>\n",
       "    </tr>\n",
       "    <tr>\n",
       "      <th>33601002511.0</th>\n",
       "      <td>4.314e+07</td>\n",
       "      <td>127.459</td>\n",
       "      <td>200.000</td>\n",
       "      <td>undefined</td>\n",
       "    </tr>\n",
       "    <tr>\n",
       "      <th>33601007832.0</th>\n",
       "      <td>4.314e+07</td>\n",
       "      <td>84.000</td>\n",
       "      <td>200.000</td>\n",
       "      <td>Apple iPhone 5S (A1457)</td>\n",
       "    </tr>\n",
       "    <tr>\n",
       "      <th>33601008617.0</th>\n",
       "      <td>8.245e+07</td>\n",
       "      <td>218.459</td>\n",
       "      <td>398.548</td>\n",
       "      <td>Apple iPhone Se (A1723)</td>\n",
       "    </tr>\n",
       "  </tbody>\n",
       "</table>\n",
       "</div>"
      ],
      "text/plain": [
       "               Total TCP  Total RTT  Total Throughput                    Handset Type\n",
       "MSISDN/Number                                                                        \n",
       "33601001722.0  4.314e+07     63.663           200.000  Huawei P20 Lite Huawei Nova 3E\n",
       "33601001754.0  4.314e+07    127.459           200.000          Apple iPhone 7 (A1778)\n",
       "33601002511.0  4.314e+07    127.459           200.000                       undefined\n",
       "33601007832.0  4.314e+07     84.000           200.000         Apple iPhone 5S (A1457)\n",
       "33601008617.0  8.245e+07    218.459           398.548         Apple iPhone Se (A1723)"
      ]
     },
     "execution_count": 27,
     "metadata": {},
     "output_type": "execute_result"
    }
   ],
   "source": [
    "experience_agg_by_customer.head()"
   ]
  },
  {
   "cell_type": "code",
   "execution_count": 28,
   "id": "697de8de",
   "metadata": {},
   "outputs": [],
   "source": [
    "#TCP values in the dataset.\n",
    "tcp_trans = experience_agg_by_customer.sort_values(by=['Total TCP'], ascending=False)\n",
    "\n",
    "top_10_tcp = tcp_trans.head(10)\n",
    "bot_10_tcp = tcp_trans.tail(10)\n",
    "most_tcp_frq = tcp_trans['Total TCP'].value_counts().head(10)"
   ]
  },
  {
   "cell_type": "code",
   "execution_count": 30,
   "id": "70032bc2",
   "metadata": {},
   "outputs": [
    {
     "data": {
      "text/html": [
       "<div>\n",
       "<style scoped>\n",
       "    .dataframe tbody tr th:only-of-type {\n",
       "        vertical-align: middle;\n",
       "    }\n",
       "\n",
       "    .dataframe tbody tr th {\n",
       "        vertical-align: top;\n",
       "    }\n",
       "\n",
       "    .dataframe thead th {\n",
       "        text-align: right;\n",
       "    }\n",
       "</style>\n",
       "<table border=\"1\" class=\"dataframe\">\n",
       "  <thead>\n",
       "    <tr style=\"text-align: right;\">\n",
       "      <th></th>\n",
       "      <th>Total TCP</th>\n",
       "    </tr>\n",
       "    <tr>\n",
       "      <th>MSISDN/Number</th>\n",
       "      <th></th>\n",
       "    </tr>\n",
       "  </thead>\n",
       "  <tbody>\n",
       "    <tr>\n",
       "      <th>Uknown</th>\n",
       "      <td>4.537e+10</td>\n",
       "    </tr>\n",
       "    <tr>\n",
       "      <th>33626320676.0</th>\n",
       "      <td>7.765e+08</td>\n",
       "    </tr>\n",
       "    <tr>\n",
       "      <th>33614892860.0</th>\n",
       "      <td>7.334e+08</td>\n",
       "    </tr>\n",
       "    <tr>\n",
       "      <th>33625779332.0</th>\n",
       "      <td>7.334e+08</td>\n",
       "    </tr>\n",
       "    <tr>\n",
       "      <th>33659725664.0</th>\n",
       "      <td>6.902e+08</td>\n",
       "    </tr>\n",
       "    <tr>\n",
       "      <th>33760536639.0</th>\n",
       "      <td>6.393e+08</td>\n",
       "    </tr>\n",
       "    <tr>\n",
       "      <th>33675877202.0</th>\n",
       "      <td>6.197e+08</td>\n",
       "    </tr>\n",
       "    <tr>\n",
       "      <th>33667163239.0</th>\n",
       "      <td>5.570e+08</td>\n",
       "    </tr>\n",
       "    <tr>\n",
       "      <th>33786323068.0</th>\n",
       "      <td>5.177e+08</td>\n",
       "    </tr>\n",
       "    <tr>\n",
       "      <th>33627080969.0</th>\n",
       "      <td>5.177e+08</td>\n",
       "    </tr>\n",
       "  </tbody>\n",
       "</table>\n",
       "</div>"
      ],
      "text/plain": [
       "               Total TCP\n",
       "MSISDN/Number           \n",
       "Uknown         4.537e+10\n",
       "33626320676.0  7.765e+08\n",
       "33614892860.0  7.334e+08\n",
       "33625779332.0  7.334e+08\n",
       "33659725664.0  6.902e+08\n",
       "33760536639.0  6.393e+08\n",
       "33675877202.0  6.197e+08\n",
       "33667163239.0  5.570e+08\n",
       "33786323068.0  5.177e+08\n",
       "33627080969.0  5.177e+08"
      ]
     },
     "execution_count": 30,
     "metadata": {},
     "output_type": "execute_result"
    }
   ],
   "source": [
    "top_10_tcp[['Total TCP']]"
   ]
  },
  {
   "cell_type": "code",
   "execution_count": 31,
   "id": "7b35d2d9",
   "metadata": {},
   "outputs": [
    {
     "data": {
      "text/html": [
       "<div>\n",
       "<style scoped>\n",
       "    .dataframe tbody tr th:only-of-type {\n",
       "        vertical-align: middle;\n",
       "    }\n",
       "\n",
       "    .dataframe tbody tr th {\n",
       "        vertical-align: top;\n",
       "    }\n",
       "\n",
       "    .dataframe thead th {\n",
       "        text-align: right;\n",
       "    }\n",
       "</style>\n",
       "<table border=\"1\" class=\"dataframe\">\n",
       "  <thead>\n",
       "    <tr style=\"text-align: right;\">\n",
       "      <th></th>\n",
       "      <th>Total TCP</th>\n",
       "    </tr>\n",
       "    <tr>\n",
       "      <th>MSISDN/Number</th>\n",
       "      <th></th>\n",
       "    </tr>\n",
       "  </thead>\n",
       "  <tbody>\n",
       "    <tr>\n",
       "      <th>33659647746.0</th>\n",
       "      <td>3.922e+07</td>\n",
       "    </tr>\n",
       "    <tr>\n",
       "      <th>33659655111.0</th>\n",
       "      <td>3.922e+07</td>\n",
       "    </tr>\n",
       "    <tr>\n",
       "      <th>33659663137.0</th>\n",
       "      <td>3.922e+07</td>\n",
       "    </tr>\n",
       "    <tr>\n",
       "      <th>33770718800.0</th>\n",
       "      <td>3.922e+07</td>\n",
       "    </tr>\n",
       "    <tr>\n",
       "      <th>33659676396.0</th>\n",
       "      <td>3.922e+07</td>\n",
       "    </tr>\n",
       "    <tr>\n",
       "      <th>33659677078.0</th>\n",
       "      <td>3.922e+07</td>\n",
       "    </tr>\n",
       "    <tr>\n",
       "      <th>33659683216.0</th>\n",
       "      <td>3.922e+07</td>\n",
       "    </tr>\n",
       "    <tr>\n",
       "      <th>33659687281.0</th>\n",
       "      <td>3.922e+07</td>\n",
       "    </tr>\n",
       "    <tr>\n",
       "      <th>33659696258.0</th>\n",
       "      <td>3.922e+07</td>\n",
       "    </tr>\n",
       "    <tr>\n",
       "      <th>33698779873.0</th>\n",
       "      <td>3.922e+07</td>\n",
       "    </tr>\n",
       "  </tbody>\n",
       "</table>\n",
       "</div>"
      ],
      "text/plain": [
       "               Total TCP\n",
       "MSISDN/Number           \n",
       "33659647746.0  3.922e+07\n",
       "33659655111.0  3.922e+07\n",
       "33659663137.0  3.922e+07\n",
       "33770718800.0  3.922e+07\n",
       "33659676396.0  3.922e+07\n",
       "33659677078.0  3.922e+07\n",
       "33659683216.0  3.922e+07\n",
       "33659687281.0  3.922e+07\n",
       "33659696258.0  3.922e+07\n",
       "33698779873.0  3.922e+07"
      ]
     },
     "execution_count": 31,
     "metadata": {},
     "output_type": "execute_result"
    }
   ],
   "source": [
    "bot_10_tcp[['Total TCP']]"
   ]
  },
  {
   "cell_type": "code",
   "execution_count": 32,
   "id": "5aef8e67",
   "metadata": {},
   "outputs": [
    {
     "data": {
      "text/plain": [
       "4.314e+07    47125\n",
       "4.314e+07    12739\n",
       "8.628e+07     7468\n",
       "4.314e+07     5744\n",
       "8.628e+07     4654\n",
       "3.931e+07     4604\n",
       "3.922e+07     3096\n",
       "4.304e+07     2394\n",
       "8.628e+07     2202\n",
       "4.314e+07     1692\n",
       "Name: Total TCP, dtype: int64"
      ]
     },
     "execution_count": 32,
     "metadata": {},
     "output_type": "execute_result"
    }
   ],
   "source": [
    "most_tcp_frq"
   ]
  },
  {
   "cell_type": "code",
   "execution_count": 33,
   "id": "5b81f129",
   "metadata": {},
   "outputs": [],
   "source": [
    "#RTT values in the dataset\n",
    "tcp_rtt = experience_agg_by_customer.sort_values(by=['Total RTT'], ascending=False)\n",
    "\n",
    "top_10_rtt = tcp_rtt.head(10)\n",
    "bot_10_rtt = tcp_rtt.tail(10)\n",
    "most_rtt_frq = tcp_rtt['Total RTT'].value_counts().head(10)"
   ]
  },
  {
   "cell_type": "code",
   "execution_count": 34,
   "id": "27caba48",
   "metadata": {},
   "outputs": [
    {
     "data": {
      "text/html": [
       "<div>\n",
       "<style scoped>\n",
       "    .dataframe tbody tr th:only-of-type {\n",
       "        vertical-align: middle;\n",
       "    }\n",
       "\n",
       "    .dataframe tbody tr th {\n",
       "        vertical-align: top;\n",
       "    }\n",
       "\n",
       "    .dataframe thead th {\n",
       "        text-align: right;\n",
       "    }\n",
       "</style>\n",
       "<table border=\"1\" class=\"dataframe\">\n",
       "  <thead>\n",
       "    <tr style=\"text-align: right;\">\n",
       "      <th></th>\n",
       "      <th>Total RTT</th>\n",
       "    </tr>\n",
       "    <tr>\n",
       "      <th>MSISDN/Number</th>\n",
       "      <th></th>\n",
       "    </tr>\n",
       "  </thead>\n",
       "  <tbody>\n",
       "    <tr>\n",
       "      <th>Uknown</th>\n",
       "      <td>105998.137</td>\n",
       "    </tr>\n",
       "    <tr>\n",
       "      <th>33626320676.0</th>\n",
       "      <td>2210.277</td>\n",
       "    </tr>\n",
       "    <tr>\n",
       "      <th>33614892860.0</th>\n",
       "      <td>2023.697</td>\n",
       "    </tr>\n",
       "    <tr>\n",
       "      <th>33625779332.0</th>\n",
       "      <td>1879.780</td>\n",
       "    </tr>\n",
       "    <tr>\n",
       "      <th>33760536639.0</th>\n",
       "      <td>1815.432</td>\n",
       "    </tr>\n",
       "    <tr>\n",
       "      <th>33786323068.0</th>\n",
       "      <td>1513.177</td>\n",
       "    </tr>\n",
       "    <tr>\n",
       "      <th>33667163239.0</th>\n",
       "      <td>1469.382</td>\n",
       "    </tr>\n",
       "    <tr>\n",
       "      <th>33666464084.0</th>\n",
       "      <td>1321.404</td>\n",
       "    </tr>\n",
       "    <tr>\n",
       "      <th>33659725664.0</th>\n",
       "      <td>1257.077</td>\n",
       "    </tr>\n",
       "    <tr>\n",
       "      <th>33627080969.0</th>\n",
       "      <td>1245.403</td>\n",
       "    </tr>\n",
       "  </tbody>\n",
       "</table>\n",
       "</div>"
      ],
      "text/plain": [
       "                Total RTT\n",
       "MSISDN/Number            \n",
       "Uknown         105998.137\n",
       "33626320676.0    2210.277\n",
       "33614892860.0    2023.697\n",
       "33625779332.0    1879.780\n",
       "33760536639.0    1815.432\n",
       "33786323068.0    1513.177\n",
       "33667163239.0    1469.382\n",
       "33666464084.0    1321.404\n",
       "33659725664.0    1257.077\n",
       "33627080969.0    1245.403"
      ]
     },
     "execution_count": 34,
     "metadata": {},
     "output_type": "execute_result"
    }
   ],
   "source": [
    "top_10_rtt[['Total RTT']]"
   ]
  },
  {
   "cell_type": "code",
   "execution_count": 35,
   "id": "9a5127bf",
   "metadata": {},
   "outputs": [
    {
     "data": {
      "text/html": [
       "<div>\n",
       "<style scoped>\n",
       "    .dataframe tbody tr th:only-of-type {\n",
       "        vertical-align: middle;\n",
       "    }\n",
       "\n",
       "    .dataframe tbody tr th {\n",
       "        vertical-align: top;\n",
       "    }\n",
       "\n",
       "    .dataframe thead th {\n",
       "        text-align: right;\n",
       "    }\n",
       "</style>\n",
       "<table border=\"1\" class=\"dataframe\">\n",
       "  <thead>\n",
       "    <tr style=\"text-align: right;\">\n",
       "      <th></th>\n",
       "      <th>Total RTT</th>\n",
       "    </tr>\n",
       "    <tr>\n",
       "      <th>MSISDN/Number</th>\n",
       "      <th></th>\n",
       "    </tr>\n",
       "  </thead>\n",
       "  <tbody>\n",
       "    <tr>\n",
       "      <th>33615426567.0</th>\n",
       "      <td>38.0</td>\n",
       "    </tr>\n",
       "    <tr>\n",
       "      <th>33763307076.0</th>\n",
       "      <td>38.0</td>\n",
       "    </tr>\n",
       "    <tr>\n",
       "      <th>33668742204.0</th>\n",
       "      <td>38.0</td>\n",
       "    </tr>\n",
       "    <tr>\n",
       "      <th>33661287634.0</th>\n",
       "      <td>38.0</td>\n",
       "    </tr>\n",
       "    <tr>\n",
       "      <th>33680489559.0</th>\n",
       "      <td>38.0</td>\n",
       "    </tr>\n",
       "    <tr>\n",
       "      <th>33669109353.0</th>\n",
       "      <td>38.0</td>\n",
       "    </tr>\n",
       "    <tr>\n",
       "      <th>33650787012.0</th>\n",
       "      <td>38.0</td>\n",
       "    </tr>\n",
       "    <tr>\n",
       "      <th>33606848562.0</th>\n",
       "      <td>38.0</td>\n",
       "    </tr>\n",
       "    <tr>\n",
       "      <th>33607296984.0</th>\n",
       "      <td>38.0</td>\n",
       "    </tr>\n",
       "    <tr>\n",
       "      <th>33665729821.0</th>\n",
       "      <td>38.0</td>\n",
       "    </tr>\n",
       "  </tbody>\n",
       "</table>\n",
       "</div>"
      ],
      "text/plain": [
       "               Total RTT\n",
       "MSISDN/Number           \n",
       "33615426567.0       38.0\n",
       "33763307076.0       38.0\n",
       "33668742204.0       38.0\n",
       "33661287634.0       38.0\n",
       "33680489559.0       38.0\n",
       "33669109353.0       38.0\n",
       "33650787012.0       38.0\n",
       "33606848562.0       38.0\n",
       "33607296984.0       38.0\n",
       "33665729821.0       38.0"
      ]
     },
     "execution_count": 35,
     "metadata": {},
     "output_type": "execute_result"
    }
   ],
   "source": [
    "bot_10_rtt[['Total RTT']]"
   ]
  },
  {
   "cell_type": "code",
   "execution_count": 36,
   "id": "e640db07",
   "metadata": {},
   "outputs": [
    {
     "data": {
      "text/plain": [
       "127.459    16353\n",
       "127.459    14775\n",
       "114.796     2984\n",
       "112.796     2212\n",
       "113.796     2155\n",
       "254.917     1908\n",
       "115.796     1726\n",
       "254.917     1330\n",
       "116.796     1037\n",
       "55.663       828\n",
       "Name: Total RTT, dtype: int64"
      ]
     },
     "execution_count": 36,
     "metadata": {},
     "output_type": "execute_result"
    }
   ],
   "source": [
    "most_rtt_frq"
   ]
  },
  {
   "cell_type": "code",
   "execution_count": 37,
   "id": "b015b8fc",
   "metadata": {},
   "outputs": [],
   "source": [
    "#Throughput values in the dataset\n",
    "tcp_throuput = experience_agg_by_customer.sort_values(by=['Total Throughput'], ascending=False)\n",
    "\n",
    "top_10_throuput = tcp_throuput.head(10)\n",
    "bot_10_throuput = tcp_throuput.tail(10)\n",
    "most_rtt_throuput = tcp_throuput['Total Throughput'].value_counts().head(10)"
   ]
  },
  {
   "cell_type": "code",
   "execution_count": 38,
   "id": "c40f3fd1",
   "metadata": {},
   "outputs": [
    {
     "data": {
      "text/html": [
       "<div>\n",
       "<style scoped>\n",
       "    .dataframe tbody tr th:only-of-type {\n",
       "        vertical-align: middle;\n",
       "    }\n",
       "\n",
       "    .dataframe tbody tr th {\n",
       "        vertical-align: top;\n",
       "    }\n",
       "\n",
       "    .dataframe thead th {\n",
       "        text-align: right;\n",
       "    }\n",
       "</style>\n",
       "<table border=\"1\" class=\"dataframe\">\n",
       "  <thead>\n",
       "    <tr style=\"text-align: right;\">\n",
       "      <th></th>\n",
       "      <th>Total Throughput</th>\n",
       "    </tr>\n",
       "    <tr>\n",
       "      <th>MSISDN/Number</th>\n",
       "      <th></th>\n",
       "    </tr>\n",
       "  </thead>\n",
       "  <tbody>\n",
       "    <tr>\n",
       "      <th>Uknown</th>\n",
       "      <td>211564.144</td>\n",
       "    </tr>\n",
       "    <tr>\n",
       "      <th>33626320676.0</th>\n",
       "      <td>3573.983</td>\n",
       "    </tr>\n",
       "    <tr>\n",
       "      <th>33625779332.0</th>\n",
       "      <td>3375.530</td>\n",
       "    </tr>\n",
       "    <tr>\n",
       "      <th>33614892860.0</th>\n",
       "      <td>3364.821</td>\n",
       "    </tr>\n",
       "    <tr>\n",
       "      <th>33659725664.0</th>\n",
       "      <td>3172.722</td>\n",
       "    </tr>\n",
       "    <tr>\n",
       "      <th>33760536639.0</th>\n",
       "      <td>2985.938</td>\n",
       "    </tr>\n",
       "    <tr>\n",
       "      <th>33675877202.0</th>\n",
       "      <td>2976.010</td>\n",
       "    </tr>\n",
       "    <tr>\n",
       "      <th>33667163239.0</th>\n",
       "      <td>2572.451</td>\n",
       "    </tr>\n",
       "    <tr>\n",
       "      <th>33786323068.0</th>\n",
       "      <td>2388.937</td>\n",
       "    </tr>\n",
       "    <tr>\n",
       "      <th>33760413819.0</th>\n",
       "      <td>2386.290</td>\n",
       "    </tr>\n",
       "  </tbody>\n",
       "</table>\n",
       "</div>"
      ],
      "text/plain": [
       "               Total Throughput\n",
       "MSISDN/Number                  \n",
       "Uknown               211564.144\n",
       "33626320676.0          3573.983\n",
       "33625779332.0          3375.530\n",
       "33614892860.0          3364.821\n",
       "33659725664.0          3172.722\n",
       "33760536639.0          2985.938\n",
       "33675877202.0          2976.010\n",
       "33667163239.0          2572.451\n",
       "33786323068.0          2388.937\n",
       "33760413819.0          2386.290"
      ]
     },
     "execution_count": 38,
     "metadata": {},
     "output_type": "execute_result"
    }
   ],
   "source": [
    "top_10_throuput[['Total Throughput']]"
   ]
  },
  {
   "cell_type": "code",
   "execution_count": 39,
   "id": "923a8f03",
   "metadata": {},
   "outputs": [
    {
     "data": {
      "text/html": [
       "<div>\n",
       "<style scoped>\n",
       "    .dataframe tbody tr th:only-of-type {\n",
       "        vertical-align: middle;\n",
       "    }\n",
       "\n",
       "    .dataframe tbody tr th {\n",
       "        vertical-align: top;\n",
       "    }\n",
       "\n",
       "    .dataframe thead th {\n",
       "        text-align: right;\n",
       "    }\n",
       "</style>\n",
       "<table border=\"1\" class=\"dataframe\">\n",
       "  <thead>\n",
       "    <tr style=\"text-align: right;\">\n",
       "      <th></th>\n",
       "      <th>Total Throughput</th>\n",
       "    </tr>\n",
       "    <tr>\n",
       "      <th>MSISDN/Number</th>\n",
       "      <th></th>\n",
       "    </tr>\n",
       "  </thead>\n",
       "  <tbody>\n",
       "    <tr>\n",
       "      <th>33648553125.0</th>\n",
       "      <td>192.717</td>\n",
       "    </tr>\n",
       "    <tr>\n",
       "      <th>33666615355.0</th>\n",
       "      <td>192.610</td>\n",
       "    </tr>\n",
       "    <tr>\n",
       "      <th>33699909517.0</th>\n",
       "      <td>192.610</td>\n",
       "    </tr>\n",
       "    <tr>\n",
       "      <th>33616804993.0</th>\n",
       "      <td>192.610</td>\n",
       "    </tr>\n",
       "    <tr>\n",
       "      <th>33662561141.0</th>\n",
       "      <td>192.599</td>\n",
       "    </tr>\n",
       "    <tr>\n",
       "      <th>33666135518.0</th>\n",
       "      <td>192.140</td>\n",
       "    </tr>\n",
       "    <tr>\n",
       "      <th>33661460401.0</th>\n",
       "      <td>192.065</td>\n",
       "    </tr>\n",
       "    <tr>\n",
       "      <th>33699431274.0</th>\n",
       "      <td>191.917</td>\n",
       "    </tr>\n",
       "    <tr>\n",
       "      <th>33666036742.0</th>\n",
       "      <td>191.917</td>\n",
       "    </tr>\n",
       "    <tr>\n",
       "      <th>33662546871.0</th>\n",
       "      <td>191.288</td>\n",
       "    </tr>\n",
       "  </tbody>\n",
       "</table>\n",
       "</div>"
      ],
      "text/plain": [
       "               Total Throughput\n",
       "MSISDN/Number                  \n",
       "33648553125.0           192.717\n",
       "33666615355.0           192.610\n",
       "33699909517.0           192.610\n",
       "33616804993.0           192.610\n",
       "33662561141.0           192.599\n",
       "33666135518.0           192.140\n",
       "33661460401.0           192.065\n",
       "33699431274.0           191.917\n",
       "33666036742.0           191.917\n",
       "33662546871.0           191.288"
      ]
     },
     "execution_count": 39,
     "metadata": {},
     "output_type": "execute_result"
    }
   ],
   "source": [
    "bot_10_throuput[['Total Throughput']]"
   ]
  },
  {
   "cell_type": "code",
   "execution_count": 40,
   "id": "76c7992f",
   "metadata": {},
   "outputs": [
    {
     "data": {
      "text/plain": [
       "200.000    47723\n",
       "400.000     7112\n",
       "198.548     5171\n",
       "199.000     3105\n",
       "198.000     2836\n",
       "398.548     2600\n",
       "198.241     2009\n",
       "197.000     1929\n",
       "196.631     1085\n",
       "197.631     1022\n",
       "Name: Total Throughput, dtype: int64"
      ]
     },
     "execution_count": 40,
     "metadata": {},
     "output_type": "execute_result"
    }
   ],
   "source": [
    "most_rtt_throuput"
   ]
  },
  {
   "cell_type": "markdown",
   "id": "a4205370",
   "metadata": {},
   "source": [
    "## The distribution of the average throughput  per handset type"
   ]
  },
  {
   "cell_type": "code",
   "execution_count": 41,
   "id": "fb693dea",
   "metadata": {},
   "outputs": [
    {
     "data": {
      "text/html": [
       "<div>\n",
       "<style scoped>\n",
       "    .dataframe tbody tr th:only-of-type {\n",
       "        vertical-align: middle;\n",
       "    }\n",
       "\n",
       "    .dataframe tbody tr th {\n",
       "        vertical-align: top;\n",
       "    }\n",
       "\n",
       "    .dataframe thead th {\n",
       "        text-align: right;\n",
       "    }\n",
       "</style>\n",
       "<table border=\"1\" class=\"dataframe\">\n",
       "  <thead>\n",
       "    <tr style=\"text-align: right;\">\n",
       "      <th></th>\n",
       "      <th>Total Throughput</th>\n",
       "      <th>Total RTT</th>\n",
       "    </tr>\n",
       "    <tr>\n",
       "      <th>Handset Type</th>\n",
       "      <th></th>\n",
       "      <th></th>\n",
       "    </tr>\n",
       "  </thead>\n",
       "  <tbody>\n",
       "    <tr>\n",
       "      <th>A-Link Telecom I. Cubot A5</th>\n",
       "      <td>197.454</td>\n",
       "      <td>57.663</td>\n",
       "    </tr>\n",
       "    <tr>\n",
       "      <th>A-Link Telecom I. Cubot Note Plus</th>\n",
       "      <td>198.717</td>\n",
       "      <td>117.796</td>\n",
       "    </tr>\n",
       "    <tr>\n",
       "      <th>A-Link Telecom I. Cubot Note S</th>\n",
       "      <td>198.241</td>\n",
       "      <td>113.796</td>\n",
       "    </tr>\n",
       "    <tr>\n",
       "      <th>A-Link Telecom I. Cubot Nova</th>\n",
       "      <td>198.548</td>\n",
       "      <td>44.000</td>\n",
       "    </tr>\n",
       "    <tr>\n",
       "      <th>A-Link Telecom I. Cubot Power</th>\n",
       "      <td>198.241</td>\n",
       "      <td>43.000</td>\n",
       "    </tr>\n",
       "  </tbody>\n",
       "</table>\n",
       "</div>"
      ],
      "text/plain": [
       "                                   Total Throughput  Total RTT\n",
       "Handset Type                                                  \n",
       "A-Link Telecom I. Cubot A5                  197.454     57.663\n",
       "A-Link Telecom I. Cubot Note Plus           198.717    117.796\n",
       "A-Link Telecom I. Cubot Note S              198.241    113.796\n",
       "A-Link Telecom I. Cubot Nova                198.548     44.000\n",
       "A-Link Telecom I. Cubot Power               198.241     43.000"
      ]
     },
     "execution_count": 41,
     "metadata": {},
     "output_type": "execute_result"
    }
   ],
   "source": [
    "handset_type_df = experience_agg_by_customer.groupby('Handset Type').agg(\n",
    "    {'Total Throughput': 'mean', 'Total RTT': 'mean'})\n",
    "handset_type_df.head()"
   ]
  },
  {
   "cell_type": "code",
   "execution_count": 42,
   "id": "ddfc4b3e",
   "metadata": {},
   "outputs": [],
   "source": [
    "sorted_by_tcp = handset_type_df.sort_values(\n",
    "    'Total Throughput', ascending=False)\n",
    "top_tcp = sorted_by_tcp['Total Throughput']"
   ]
  },
  {
   "cell_type": "code",
   "execution_count": 43,
   "id": "0b53e0c9",
   "metadata": {},
   "outputs": [
    {
     "data": {
      "text/plain": [
       "Handset Type\n",
       "Uknown                     211564.144\n",
       "Huawei Me909S-120             698.920\n",
       "Huawei B618S-22D              663.039\n",
       "Apple iPhone Xr (A2106)       598.500\n",
       "Huawei Evr-Al00               598.000\n",
       "Name: Total Throughput, dtype: float64"
      ]
     },
     "execution_count": 43,
     "metadata": {},
     "output_type": "execute_result"
    }
   ],
   "source": [
    "top_tcp.head()"
   ]
  },
  {
   "cell_type": "code",
   "execution_count": 44,
   "id": "55752a4a",
   "metadata": {},
   "outputs": [],
   "source": [
    "sorted_by_tcp = handset_type_df.sort_values(\n",
    "    'Total RTT', ascending=False)\n",
    "top_tcp = sorted_by_tcp['Total RTT']"
   ]
  },
  {
   "cell_type": "code",
   "execution_count": 45,
   "id": "de8649fc",
   "metadata": {},
   "outputs": [
    {
     "data": {
      "text/plain": [
       "Handset Type\n",
       "Uknown                            105998.137\n",
       "Huawei Me909S-120                    425.876\n",
       "Huawei B618S-22D                     409.890\n",
       "Huawei Evr-Al00                      309.580\n",
       "Tp-Link Technolo. Archer Mr200       287.266\n",
       "Name: Total RTT, dtype: float64"
      ]
     },
     "execution_count": 45,
     "metadata": {},
     "output_type": "execute_result"
    }
   ],
   "source": [
    "top_tcp.head()"
   ]
  },
  {
   "cell_type": "markdown",
   "id": "fe9f4a7f",
   "metadata": {},
   "source": [
    "## Performing a k-means clustering (where k = 3) to segment users into groups of experiences"
   ]
  },
  {
   "cell_type": "code",
   "execution_count": 48,
   "id": "6538a57b",
   "metadata": {},
   "outputs": [],
   "source": [
    "def normalizer(df, columns):\n",
    "    norm = Normalizer()\n",
    "    return pd.DataFrame(norm.fit_transform(df), columns=columns)\n",
    "\n",
    "def scaler(df, columns):\n",
    "    minmax_scaler = MinMaxScaler()\n",
    "    return pd.DataFrame(minmax_scaler.fit_transform(df), columns=columns)\n",
    "\n",
    "def scale_and_normalize(df,columns ):\n",
    "    return normalizer(scaler(df, columns), columns)\n",
    "\n",
    "def cluser_label(x: int, cols: list = []) -> str:\n",
    "    if (not type(x) == int):\n",
    "        return x\n",
    "    if (x < len(cols)):\n",
    "        return cols[x]\n",
    "\n",
    "    return str(x)"
   ]
  },
  {
   "cell_type": "code",
   "execution_count": 49,
   "id": "f07bab34",
   "metadata": {},
   "outputs": [
    {
     "data": {
      "text/html": [
       "<div>\n",
       "<style scoped>\n",
       "    .dataframe tbody tr th:only-of-type {\n",
       "        vertical-align: middle;\n",
       "    }\n",
       "\n",
       "    .dataframe tbody tr th {\n",
       "        vertical-align: top;\n",
       "    }\n",
       "\n",
       "    .dataframe thead th {\n",
       "        text-align: right;\n",
       "    }\n",
       "</style>\n",
       "<table border=\"1\" class=\"dataframe\">\n",
       "  <thead>\n",
       "    <tr style=\"text-align: right;\">\n",
       "      <th></th>\n",
       "      <th>Total TCP</th>\n",
       "      <th>Total RTT</th>\n",
       "      <th>Total Throughput</th>\n",
       "    </tr>\n",
       "  </thead>\n",
       "  <tbody>\n",
       "    <tr>\n",
       "      <th>count</th>\n",
       "      <td>106857.000</td>\n",
       "      <td>106857.000</td>\n",
       "      <td>106857.000</td>\n",
       "    </tr>\n",
       "    <tr>\n",
       "      <th>mean</th>\n",
       "      <td>0.290</td>\n",
       "      <td>0.865</td>\n",
       "      <td>0.207</td>\n",
       "    </tr>\n",
       "    <tr>\n",
       "      <th>std</th>\n",
       "      <td>0.225</td>\n",
       "      <td>0.183</td>\n",
       "      <td>0.200</td>\n",
       "    </tr>\n",
       "    <tr>\n",
       "      <th>min</th>\n",
       "      <td>0.000</td>\n",
       "      <td>0.000</td>\n",
       "      <td>0.000</td>\n",
       "    </tr>\n",
       "    <tr>\n",
       "      <th>25%</th>\n",
       "      <td>0.102</td>\n",
       "      <td>0.782</td>\n",
       "      <td>0.049</td>\n",
       "    </tr>\n",
       "    <tr>\n",
       "      <th>50%</th>\n",
       "      <td>0.180</td>\n",
       "      <td>0.978</td>\n",
       "      <td>0.089</td>\n",
       "    </tr>\n",
       "    <tr>\n",
       "      <th>75%</th>\n",
       "      <td>0.484</td>\n",
       "      <td>0.994</td>\n",
       "      <td>0.398</td>\n",
       "    </tr>\n",
       "    <tr>\n",
       "      <th>max</th>\n",
       "      <td>0.989</td>\n",
       "      <td>1.000</td>\n",
       "      <td>1.000</td>\n",
       "    </tr>\n",
       "  </tbody>\n",
       "</table>\n",
       "</div>"
      ],
      "text/plain": [
       "        Total TCP   Total RTT  Total Throughput\n",
       "count  106857.000  106857.000        106857.000\n",
       "mean        0.290       0.865             0.207\n",
       "std         0.225       0.183             0.200\n",
       "min         0.000       0.000             0.000\n",
       "25%         0.102       0.782             0.049\n",
       "50%         0.180       0.978             0.089\n",
       "75%         0.484       0.994             0.398\n",
       "max         0.989       1.000             1.000"
      ]
     },
     "execution_count": 49,
     "metadata": {},
     "output_type": "execute_result"
    }
   ],
   "source": [
    "metrics = experience_agg_by_customer[[ 'Total TCP','Total RTT', 'Total Throughput']]\n",
    "normalized_metrics = scale_and_normalize(metrics, [ 'Total TCP','Total RTT', 'Total Throughput'])\n",
    "normalized_metrics.describe()"
   ]
  },
  {
   "cell_type": "code",
   "execution_count": 50,
   "id": "dd77a189",
   "metadata": {},
   "outputs": [
    {
     "data": {
      "text/plain": [
       "0    61235\n",
       "2    24643\n",
       "1    20979\n",
       "Name: clusters, dtype: int64"
      ]
     },
     "execution_count": 50,
     "metadata": {},
     "output_type": "execute_result"
    }
   ],
   "source": [
    "kmeans = KMeans(n_clusters=3, init='k-means++').fit(normalized_metrics)\n",
    "pred = kmeans.predict(normalized_metrics)\n",
    "\n",
    "experience_metrics_with_cluster = experience_agg_by_customer.copy()\n",
    "experience_metrics_with_cluster['clusters'] = pred\n",
    "experience_metrics_with_cluster['clusters'].value_counts()"
   ]
  },
  {
   "cell_type": "code",
   "execution_count": 52,
   "id": "85562760",
   "metadata": {},
   "outputs": [],
   "source": [
    "experience_metrics_with_cluster = experience_metrics_with_cluster.rename(columns={'Total TCP': 'Total_TCP', 'Total RTT': 'Total_RTT','Total Throughput':'Total_Throughput'})\n"
   ]
  },
  {
   "cell_type": "code",
   "execution_count": 54,
   "id": "7e7fb9e7",
   "metadata": {},
   "outputs": [
    {
     "data": {
      "image/png": "[encoded data removed]",
      "text/plain": [
       "<Figure size 1440x1440 with 1 Axes>"
      ]
     },
     "metadata": {},
     "output_type": "display_data"
    }
   ],
   "source": [
    "fig=plt.figure(figsize=(20,20))\n",
    "ax=fig.add_subplot(111,projection='3d')\n",
    "for s in experience_metrics_with_cluster.clusters.unique():\n",
    "    ax.scatter(experience_metrics_with_cluster.Total_TCP[experience_metrics_with_cluster.clusters==s],experience_metrics_with_cluster.Total_RTT[experience_metrics_with_cluster.clusters==s],experience_metrics_with_cluster.Total_Throughput[experience_metrics_with_cluster.clusters==s],label=s)\n",
    "    ax.set_xlabel('Total TCP')\n",
    "    ax.set_ylabel('Total RTT')\n",
    "    ax.set_zlabel('Total Throughput')\n",
    "    ax.legend()"
   ]
  },
  {
   "cell_type": "markdown",
   "id": "331a7f95",
   "metadata": {},
   "source": [
    "## Experience score to each user"
   ]
  },
  {
   "cell_type": "code",
   "execution_count": 55,
   "id": "afb4af0e",
   "metadata": {},
   "outputs": [
    {
     "data": {
      "text/plain": [
       "KMeans(n_clusters=3)"
      ]
     },
     "execution_count": 55,
     "metadata": {},
     "output_type": "execute_result"
    }
   ],
   "source": [
    "experience_metrics_with_cluster_2 = experience_metrics_with_cluster.copy()\n",
    "experience_metrics_with_cluster_2 = experience_metrics_with_cluster_2.drop('Handset Type', axis=1)\n",
    "kmeans"
   ]
  },
  {
   "cell_type": "code",
   "execution_count": 56,
   "id": "0932b652",
   "metadata": {},
   "outputs": [],
   "source": [
    "distance = kmeans.fit_transform(experience_metrics_with_cluster_2)\n",
    "\n",
    "distance_from_less_exp = list(map(lambda x : x[0], distance))\n",
    "\n",
    "distance_from_less_exp\n",
    "experience_metrics_with_cluster_2['Experiance_score'] = distance_from_less_exp"
   ]
  },
  {
   "cell_type": "code",
   "execution_count": 57,
   "id": "66a6d5ed",
   "metadata": {},
   "outputs": [],
   "source": [
    "experience_metrics_with_cluster_2['MSISDN/Number'] = experience_metrics_with_cluster_2.index"
   ]
  },
  {
   "cell_type": "code",
   "execution_count": 58,
   "id": "c4e53d50",
   "metadata": {},
   "outputs": [
    {
     "data": {
      "text/html": [
       "<div>\n",
       "<style scoped>\n",
       "    .dataframe tbody tr th:only-of-type {\n",
       "        vertical-align: middle;\n",
       "    }\n",
       "\n",
       "    .dataframe tbody tr th {\n",
       "        vertical-align: top;\n",
       "    }\n",
       "\n",
       "    .dataframe thead th {\n",
       "        text-align: right;\n",
       "    }\n",
       "</style>\n",
       "<table border=\"1\" class=\"dataframe\">\n",
       "  <thead>\n",
       "    <tr style=\"text-align: right;\">\n",
       "      <th></th>\n",
       "      <th>Total_TCP</th>\n",
       "      <th>Total_RTT</th>\n",
       "      <th>Total_Throughput</th>\n",
       "      <th>clusters</th>\n",
       "      <th>Experiance_score</th>\n",
       "      <th>MSISDN/Number</th>\n",
       "    </tr>\n",
       "    <tr>\n",
       "      <th>MSISDN/Number</th>\n",
       "      <th></th>\n",
       "      <th></th>\n",
       "      <th></th>\n",
       "      <th></th>\n",
       "      <th></th>\n",
       "      <th></th>\n",
       "    </tr>\n",
       "  </thead>\n",
       "  <tbody>\n",
       "    <tr>\n",
       "      <th>33601001722.0</th>\n",
       "      <td>4.314e+07</td>\n",
       "      <td>63.663</td>\n",
       "      <td>200.000</td>\n",
       "      <td>2</td>\n",
       "      <td>3.996e+05</td>\n",
       "      <td>33601001722.0</td>\n",
       "    </tr>\n",
       "    <tr>\n",
       "      <th>33601001754.0</th>\n",
       "      <td>4.314e+07</td>\n",
       "      <td>127.459</td>\n",
       "      <td>200.000</td>\n",
       "      <td>0</td>\n",
       "      <td>3.996e+05</td>\n",
       "      <td>33601001754.0</td>\n",
       "    </tr>\n",
       "    <tr>\n",
       "      <th>33601002511.0</th>\n",
       "      <td>4.314e+07</td>\n",
       "      <td>127.459</td>\n",
       "      <td>200.000</td>\n",
       "      <td>0</td>\n",
       "      <td>3.996e+05</td>\n",
       "      <td>33601002511.0</td>\n",
       "    </tr>\n",
       "    <tr>\n",
       "      <th>33601007832.0</th>\n",
       "      <td>4.314e+07</td>\n",
       "      <td>84.000</td>\n",
       "      <td>200.000</td>\n",
       "      <td>0</td>\n",
       "      <td>3.996e+05</td>\n",
       "      <td>33601007832.0</td>\n",
       "    </tr>\n",
       "    <tr>\n",
       "      <th>33601008617.0</th>\n",
       "      <td>8.245e+07</td>\n",
       "      <td>218.459</td>\n",
       "      <td>398.548</td>\n",
       "      <td>2</td>\n",
       "      <td>3.971e+07</td>\n",
       "      <td>33601008617.0</td>\n",
       "    </tr>\n",
       "  </tbody>\n",
       "</table>\n",
       "</div>"
      ],
      "text/plain": [
       "               Total_TCP  Total_RTT  Total_Throughput  clusters  Experiance_score  MSISDN/Number\n",
       "MSISDN/Number                                                                                   \n",
       "33601001722.0  4.314e+07     63.663           200.000         2         3.996e+05  33601001722.0\n",
       "33601001754.0  4.314e+07    127.459           200.000         0         3.996e+05  33601001754.0\n",
       "33601002511.0  4.314e+07    127.459           200.000         0         3.996e+05  33601002511.0\n",
       "33601007832.0  4.314e+07     84.000           200.000         0         3.996e+05  33601007832.0\n",
       "33601008617.0  8.245e+07    218.459           398.548         2         3.971e+07  33601008617.0"
      ]
     },
     "execution_count": 58,
     "metadata": {},
     "output_type": "execute_result"
    }
   ],
   "source": [
    "experience_metrics_with_cluster_2.head()"
   ]
  },
  {
   "cell_type": "code",
   "execution_count": 59,
   "id": "8ba70049",
   "metadata": {},
   "outputs": [],
   "source": [
    "experience_metrics_with_cluster_2.to_csv(\"../data/cleaned/user_experience_data.csv\")"
   ]
  },
  {
   "cell_type": "code",
   "execution_count": null,
   "id": "b4b0f5c3",
   "metadata": {},
   "outputs": [],
   "source": []
  }
 ],
 "metadata": {
  "kernelspec": {
   "display_name": "Python 3 (ipykernel)",
   "language": "python",
   "name": "python3"
  },
  "language_info": {
   "codemirror_mode": {
    "name": "ipython",
    "version": 3
   },
   "file_extension": ".py",
   "mimetype": "text/x-python",
   "name": "python",
   "nbconvert_exporter": "python",
   "pygments_lexer": "ipython3",
   "version": "3.9.7"
  }
 },
 "nbformat": 4,
 "nbformat_minor": 5
}
